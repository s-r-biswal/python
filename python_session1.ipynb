{
  "nbformat": 4,
  "nbformat_minor": 0,
  "metadata": {
    "colab": {
      "provenance": [],
      "authorship_tag": "ABX9TyPxMLKulBJN9MorLF5sh1Zo",
      "include_colab_link": true
    },
    "kernelspec": {
      "name": "python3",
      "display_name": "Python 3"
    },
    "language_info": {
      "name": "python"
    }
  },
  "cells": [
    {
      "cell_type": "markdown",
      "metadata": {
        "id": "view-in-github",
        "colab_type": "text"
      },
      "source": [
        "<a href=\"https://colab.research.google.com/github/s-r-biswal/python/blob/main/python_session1.ipynb\" target=\"_parent\"><img src=\"https://colab.research.google.com/assets/colab-badge.svg\" alt=\"Open In Colab\"/></a>"
      ]
    },
    {
      "cell_type": "code",
      "execution_count": null,
      "metadata": {
        "colab": {
          "base_uri": "https://localhost:8080/"
        },
        "id": "-AVhmcsQCbMa",
        "outputId": "0cb79b50-6b12-44c8-cee3-56bdd5ced041"
      },
      "outputs": [
        {
          "output_type": "execute_result",
          "data": {
            "text/plain": [
              "11200.0"
            ]
          },
          "metadata": {},
          "execution_count": 3
        }
      ],
      "source": [
        "distanceToBalasoreMiles = 7000\n",
        "mileToKm = 1.6\n",
        "totalDistanceToBalasre = distanceToBalasoreMiles * mileToKm\n",
        "totalDistanceToBalasre"
      ]
    },
    {
      "cell_type": "code",
      "source": [
        "print(type(totalDistanceToBalasre))"
      ],
      "metadata": {
        "colab": {
          "base_uri": "https://localhost:8080/"
        },
        "id": "dpaBX7SRDbDM",
        "outputId": "8a9e68c5-3586-4989-e30c-dcfde80db095"
      },
      "execution_count": null,
      "outputs": [
        {
          "output_type": "stream",
          "name": "stdout",
          "text": [
            "<class 'float'>\n"
          ]
        }
      ]
    },
    {
      "cell_type": "code",
      "source": [],
      "metadata": {
        "id": "21Zd8stSYXzs"
      },
      "execution_count": null,
      "outputs": []
    },
    {
      "cell_type": "code",
      "source": [
        "aString = \"python\"\n",
        "anotherString = \"Rocks\"\n",
        "aString+ \" \"+ (3 * anotherString)"
      ],
      "metadata": {
        "colab": {
          "base_uri": "https://localhost:8080/",
          "height": 35
        },
        "id": "NDianiD-DxjY",
        "outputId": "83254ba3-bd82-4046-ef49-8be73df30800"
      },
      "execution_count": null,
      "outputs": [
        {
          "output_type": "execute_result",
          "data": {
            "text/plain": [
              "'python RocksRocksRocks'"
            ],
            "application/vnd.google.colaboratory.intrinsic+json": {
              "type": "string"
            }
          },
          "metadata": {},
          "execution_count": 23
        }
      ]
    },
    {
      "cell_type": "code",
      "source": [
        "from ast import Str\n",
        "name = \"   sipra \"\n",
        "print(name.lower())\n",
        "print(name.upper())\n",
        "print(len(name))\n",
        "print(name.endswith(\"e\"))\n",
        "print(name.strip())\n",
        "print(name[4])\n",
        "print(name[1:6])"
      ],
      "metadata": {
        "colab": {
          "base_uri": "https://localhost:8080/"
        },
        "id": "q9yJe7TROf-n",
        "outputId": "d7f60801-63f9-40eb-8905-20d7d6ffb1d1"
      },
      "execution_count": null,
      "outputs": [
        {
          "output_type": "stream",
          "name": "stdout",
          "text": [
            "   sipra \n",
            "   SIPRA \n",
            "9\n",
            "False\n",
            "sipra\n",
            "i\n",
            "  sip\n"
          ]
        }
      ]
    },
    {
      "cell_type": "code",
      "source": [
        "#Multiline Strings\n",
        "\n",
        "multilineString = \"This is \\n Multiline String\"\n",
        "print(multilineString)"
      ],
      "metadata": {
        "colab": {
          "base_uri": "https://localhost:8080/"
        },
        "id": "q8zfu6EuX4WQ",
        "outputId": "cad88cf8-fd6e-4a01-d638-6d88ce687c50"
      },
      "execution_count": null,
      "outputs": [
        {
          "output_type": "stream",
          "name": "stdout",
          "text": [
            "This is \n",
            " Multiline String\n"
          ]
        }
      ]
    },
    {
      "cell_type": "code",
      "source": [
        "atuple = (1, 2, 3, 4)\n",
        "atuple[0]\n",
        "atupleS = (\"a\", \"b\", 1, 2)\n",
        "atupleS[2]\n",
        "print(atupleS + atuple)\n",
        "atupleMix = atuple+atupleS\n",
        "print(atupleMix[3])\n",
        "print(len(atupleMix))\n",
        "print(atupleMix * 3)"
      ],
      "metadata": {
        "colab": {
          "base_uri": "https://localhost:8080/"
        },
        "id": "7qg5N6qZTBlJ",
        "outputId": "546ba029-9739-4a13-f1f0-1acc696efba2"
      },
      "execution_count": null,
      "outputs": [
        {
          "output_type": "stream",
          "name": "stdout",
          "text": [
            "('a', 'b', 1, 2, 1, 2, 3, 4)\n",
            "4\n",
            "8\n",
            "(1, 2, 3, 4, 'a', 'b', 1, 2, 1, 2, 3, 4, 'a', 'b', 1, 2, 1, 2, 3, 4, 'a', 'b', 1, 2)\n"
          ]
        }
      ]
    },
    {
      "cell_type": "code",
      "source": [
        "x = 43\n",
        "y = 64\n",
        "\n",
        "isXDivisibleby2 = (x % 2) == 0\n",
        "isYDivisibleby3 = (y % 3) == 0\n",
        "\n",
        "isXDivisibleby2 and isYDivisibleby3"
      ],
      "metadata": {
        "colab": {
          "base_uri": "https://localhost:8080/"
        },
        "id": "twBVUulGKraB",
        "outputId": "5fcd00a2-3bf9-4181-8197-dbdbf67eb91b"
      },
      "execution_count": null,
      "outputs": [
        {
          "output_type": "execute_result",
          "data": {
            "text/plain": [
              "False"
            ]
          },
          "metadata": {},
          "execution_count": 21
        }
      ]
    }
  ]
}