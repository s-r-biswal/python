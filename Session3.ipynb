{
  "nbformat": 4,
  "nbformat_minor": 0,
  "metadata": {
    "colab": {
      "provenance": [],
      "authorship_tag": "ABX9TyOuq4Ssh20U3B+yMD7g3zRf"
    },
    "kernelspec": {
      "name": "python3",
      "display_name": "Python 3"
    },
    "language_info": {
      "name": "python"
    }
  },
  "cells": [
    {
      "cell_type": "code",
      "execution_count": null,
      "metadata": {
        "id": "S9gddCS-WcLJ"
      },
      "outputs": [],
      "source": [
        "#List, Dictionary, tuple, Sets, Conditional statement. # Mutable and unmutable DS"
      ]
    },
    {
      "cell_type": "code",
      "source": [
        "import timeit\n",
        "list_creation = \"[i for i in range(1000)]\"\n",
        "list_time = timeit.timeit(stmt = list_creation, number=10000)\n",
        "print(list_time)"
      ],
      "metadata": {
        "colab": {
          "base_uri": "https://localhost:8080/"
        },
        "id": "XJqc-NGUWq9t",
        "outputId": "40628198-ff17-4538-ac4a-da5c1821fdf8"
      },
      "execution_count": 1,
      "outputs": [
        {
          "output_type": "stream",
          "name": "stdout",
          "text": [
            "1.1464919090000052\n"
          ]
        }
      ]
    },
    {
      "cell_type": "code",
      "source": [
        "import timeit\n",
        "set_creation = \"(i for i in range(1000))\"\n",
        "set_time = timeit.timeit(stmt=set_creation, number=10000)\n",
        "print(set_time)"
      ],
      "metadata": {
        "colab": {
          "base_uri": "https://localhost:8080/"
        },
        "id": "JW7fSw3pYHKD",
        "outputId": "6970c42f-146e-4c75-fd34-70ca0a85f54d"
      },
      "execution_count": 4,
      "outputs": [
        {
          "output_type": "stream",
          "name": "stdout",
          "text": [
            "0.004605986999877132\n"
          ]
        }
      ]
    },
    {
      "cell_type": "code",
      "source": [
        "import timeit\n",
        "dict_creation = \"{i: i*2 for i in range(1000)}\"\n",
        "dict_time = timeit.timeit(stmt=dict_creation, number= 10000)\n",
        "print(f\"Time to create dictionary: {dict_time} seconds\")"
      ],
      "metadata": {
        "colab": {
          "base_uri": "https://localhost:8080/"
        },
        "id": "iIUezgNAbW0_",
        "outputId": "d3b2c06e-662c-40c2-82ad-20f9174e26b6"
      },
      "execution_count": 7,
      "outputs": [
        {
          "output_type": "stream",
          "name": "stdout",
          "text": [
            "Time to create dictionary: 0.5512036380000609 seconds\n"
          ]
        }
      ]
    },
    {
      "cell_type": "code",
      "source": [
        "x=3.4\n",
        "reminder = x % 1\n",
        "if reminder < .5 :\n",
        "  print(\"Reminder does not honor the pact\")\n",
        "else:\n",
        "  print(\"reminder is in the range\")\n"
      ],
      "metadata": {
        "colab": {
          "base_uri": "https://localhost:8080/"
        },
        "id": "lGlTR0MleQXI",
        "outputId": "a7b32051-b911-48bb-a2bb-cc35df9ae7ea"
      },
      "execution_count": 8,
      "outputs": [
        {
          "output_type": "stream",
          "name": "stdout",
          "text": [
            "Reminder does not honor the pact\n"
          ]
        }
      ]
    },
    {
      "cell_type": "code",
      "source": [
        "def printNum(num):\n",
        "  print(\"My favourite number is \", num)\n",
        "\n",
        "print(printNum(5))\n"
      ],
      "metadata": {
        "colab": {
          "base_uri": "https://localhost:8080/"
        },
        "id": "w6aP_CTScBr4",
        "outputId": "51bcc3d2-4fe0-497c-cf4c-6c6110536169"
      },
      "execution_count": 10,
      "outputs": [
        {
          "output_type": "stream",
          "name": "stdout",
          "text": [
            "My favourite number is  5\n",
            "None\n"
          ]
        }
      ]
    },
    {
      "cell_type": "markdown",
      "source": [],
      "metadata": {
        "id": "82NaAwciZlaV"
      }
    }
  ]
}